{
 "cells": [
  {
   "cell_type": "code",
   "execution_count": 1,
   "id": "ed2ef9bb",
   "metadata": {},
   "outputs": [
    {
     "name": "stderr",
     "output_type": "stream",
     "text": [
      "C:\\Users\\fbai_\\AppData\\Local\\Continuum\\anaconda3\\envs\\py38\\lib\\site-packages\\numpy\\_distributor_init.py:30: UserWarning: loaded more than 1 DLL from .libs:\n",
      "C:\\Users\\fbai_\\AppData\\Local\\Continuum\\anaconda3\\envs\\py38\\lib\\site-packages\\numpy\\.libs\\libopenblas.PYQHXLVVQ7VESDPUVUADXEVJOBGHJPAY.gfortran-win_amd64.dll\n",
      "C:\\Users\\fbai_\\AppData\\Local\\Continuum\\anaconda3\\envs\\py38\\lib\\site-packages\\numpy\\.libs\\libopenblas.WCDJNK7YVMPZQ2ME2ZZHJJRJ3JIKNDB7.gfortran-win_amd64.dll\n",
      "C:\\Users\\fbai_\\AppData\\Local\\Continuum\\anaconda3\\envs\\py38\\lib\\site-packages\\numpy\\.libs\\libopenblas.XWYDX2IKJW2NMTWSFYNGFUWKQU3LYTCZ.gfortran-win_amd64.dll\n",
      "  warnings.warn(\"loaded more than 1 DLL from .libs:\"\n"
     ]
    }
   ],
   "source": [
    "from transformers import BertTokenizer, GPT2LMHeadModel,TextGenerationPipeline"
   ]
  },
  {
   "cell_type": "code",
   "execution_count": 2,
   "id": "afd473bf",
   "metadata": {},
   "outputs": [],
   "source": [
    "tokenizer = BertTokenizer.from_pretrained(\"uer/gpt2-chinese-poem\")"
   ]
  },
  {
   "cell_type": "code",
   "execution_count": 3,
   "id": "4da0da18",
   "metadata": {},
   "outputs": [],
   "source": [
    "model = GPT2LMHeadModel.from_pretrained(\"uer/gpt2-chinese-poem\")"
   ]
  },
  {
   "cell_type": "code",
   "execution_count": 4,
   "id": "a1f9792c",
   "metadata": {},
   "outputs": [],
   "source": [
    "text_generator = TextGenerationPipeline(model, tokenizer)   "
   ]
  },
  {
   "cell_type": "code",
   "execution_count": null,
   "id": "0d13091c",
   "metadata": {},
   "outputs": [],
   "source": [
    "text_generator(\"[CLS]一 夜 北 风 紧 ，\", max_length=50, do_sample=True)"
   ]
  },
  {
   "cell_type": "code",
   "execution_count": null,
   "id": "ca1bcef5",
   "metadata": {},
   "outputs": [],
   "source": [
    "text_generator(\"[CLS]梅 山 如 积 翠 ，\", max_length=100, do_sample=True)"
   ]
  },
  {
   "cell_type": "code",
   "execution_count": null,
   "id": "83f2736f",
   "metadata": {},
   "outputs": [],
   "source": [
    "text_generator(\"[CLS]夜 阑 灯 如 豆 ，\", max_length=50, do_sample=True)"
   ]
  },
  {
   "cell_type": "code",
   "execution_count": null,
   "id": "9cab3c39",
   "metadata": {},
   "outputs": [],
   "source": [
    "text_generator(\"[CLS]兰 舟 向 晚 荡 秋 声，\", max_length=32, do_sample=True)"
   ]
  },
  {
   "cell_type": "code",
   "execution_count": 9,
   "id": "d2a67217",
   "metadata": {},
   "outputs": [
    {
     "name": "stderr",
     "output_type": "stream",
     "text": [
      "The attention mask and the pad token id were not set. As a consequence, you may observe unexpected behavior. Please pass your input's `attention_mask` to obtain reliable results.\n",
      "Setting `pad_token_id` to `eos_token_id`:50256 for open-end generation.\n"
     ]
    },
    {
     "data": {
      "text/plain": [
       "[{'generated_text': '[CLS]爆竹声中一岁除， 新 年 忽 又 入 春 初 。 千 金 竞 买 灯 如 昼 ， 两 脚 初 回 岁 作 除 。 酒 盏 喜 从 双 鬓 后 ， 春 盘 欣 破 五 辛 馀 。 东 风 先 到 江 梅 树 ， 消 息 频 传 雪 后 书'}]"
      ]
     },
     "execution_count": 9,
     "metadata": {},
     "output_type": "execute_result"
    }
   ],
   "source": [
    "text_generator(\"[CLS]爆竹声中一岁除，\", max_length=64, do_sample=True)"
   ]
  },
  {
   "cell_type": "code",
   "execution_count": null,
   "id": "b3da0d6b",
   "metadata": {},
   "outputs": [],
   "source": []
  }
 ],
 "metadata": {
  "kernelspec": {
   "display_name": "Python 3 (ipykernel)",
   "language": "python",
   "name": "python3"
  },
  "language_info": {
   "codemirror_mode": {
    "name": "ipython",
    "version": 3
   },
   "file_extension": ".py",
   "mimetype": "text/x-python",
   "name": "python",
   "nbconvert_exporter": "python",
   "pygments_lexer": "ipython3",
   "version": "3.8.13"
  }
 },
 "nbformat": 4,
 "nbformat_minor": 5
}
