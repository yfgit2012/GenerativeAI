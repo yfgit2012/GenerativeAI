{
 "cells": [
  {
   "cell_type": "code",
   "execution_count": 1,
   "id": "28854e7e",
   "metadata": {},
   "outputs": [
    {
     "name": "stderr",
     "output_type": "stream",
     "text": [
      "C:\\Users\\fbai_\\AppData\\Local\\Continuum\\anaconda3\\envs\\py38\\lib\\site-packages\\numpy\\_distributor_init.py:30: UserWarning: loaded more than 1 DLL from .libs:\n",
      "C:\\Users\\fbai_\\AppData\\Local\\Continuum\\anaconda3\\envs\\py38\\lib\\site-packages\\numpy\\.libs\\libopenblas.PYQHXLVVQ7VESDPUVUADXEVJOBGHJPAY.gfortran-win_amd64.dll\n",
      "C:\\Users\\fbai_\\AppData\\Local\\Continuum\\anaconda3\\envs\\py38\\lib\\site-packages\\numpy\\.libs\\libopenblas.WCDJNK7YVMPZQ2ME2ZZHJJRJ3JIKNDB7.gfortran-win_amd64.dll\n",
      "C:\\Users\\fbai_\\AppData\\Local\\Continuum\\anaconda3\\envs\\py38\\lib\\site-packages\\numpy\\.libs\\libopenblas.XWYDX2IKJW2NMTWSFYNGFUWKQU3LYTCZ.gfortran-win_amd64.dll\n",
      "  warnings.warn(\"loaded more than 1 DLL from .libs:\"\n",
      "[nltk_data] Downloading package stopwords to\n",
      "[nltk_data]     C:\\Users\\fbai_\\AppData\\Roaming\\nltk_data...\n",
      "[nltk_data]   Package stopwords is already up-to-date!\n",
      "[nltk_data] Downloading package cmudict to\n",
      "[nltk_data]     C:\\Users\\fbai_\\AppData\\Roaming\\nltk_data...\n",
      "[nltk_data]   Unzipping corpora\\cmudict.zip.\n"
     ]
    },
    {
     "data": {
      "text/plain": [
       "True"
      ]
     },
     "execution_count": 1,
     "metadata": {},
     "output_type": "execute_result"
    }
   ],
   "source": [
    "import nltk\n",
    "nltk.download('stopwords')\n",
    "nltk.download('cmudict')"
   ]
  },
  {
   "cell_type": "code",
   "execution_count": 2,
   "id": "effcaa93",
   "metadata": {},
   "outputs": [],
   "source": [
    "import functions\n",
    "from functions import generateFromBigrams, pronounce, rhyme\n",
    "import pickle\n",
    "\n",
    "from random import random"
   ]
  },
  {
   "cell_type": "code",
   "execution_count": 3,
   "id": "3fcdaeb9",
   "metadata": {},
   "outputs": [],
   "source": [
    "def randomWord(probs):\n",
    "    '''Given probs, a dictionary of word probabilities, this\n",
    "    returns a word according to how frequently that word is found\n",
    "    in the dictionary.'''\n",
    "    \n",
    "    rnum = random()\n",
    "    sumprob = 0.0\n",
    "    for k in probs.keys():\n",
    "        sumprob += probs[k]\n",
    "        if sumprob > rnum:\n",
    "            return k\n",
    "    \n",
    "    return k"
   ]
  },
  {
   "cell_type": "code",
   "execution_count": 4,
   "id": "18be7a14",
   "metadata": {},
   "outputs": [],
   "source": [
    "def generatePoem(probs, bigrams, lineLength, poemLength):\n",
    "    poemLines = [] \n",
    "    for i in range(poemLength):\n",
    "        line = generateFromBigrams(probs, bigrams, lineLength)\n",
    "        poemLines.append(line)\n",
    "    lineCount = 1 \n",
    "    newLines = [] \n",
    "    for line in poemLines: \n",
    "        if lineCount % 2 != 0: \n",
    "            rhymedLine = line \n",
    "            newLines.append(rhymedLine)\n",
    "            lineCount += 1 \n",
    "        elif lineCount % 2 == 0: \n",
    "            rhymingLine = line\n",
    "            try: \n",
    "                if rhymedLine[-1] in pronounce.keys(): \n",
    "                    newWord = rhyme(rhymedLine[-1], 3)[0]\n",
    "                    rhymingLine[-1] = newWord\n",
    "                    newLines.append(rhymingLine)\n",
    "                    lineCount += 1\n",
    "            except: \n",
    "                newLines.append(rhymingLine)\n",
    "                lineCount += 1 \n",
    "    fullPoem = [] \n",
    "    for line in newLines:\n",
    "        line.append('\\n')\n",
    "        fullLine = ' '.join(word for word in line)\n",
    "        fullPoem.append(fullLine)\n",
    "    return ''.join(line for line in fullPoem)"
   ]
  },
  {
   "cell_type": "code",
   "execution_count": 5,
   "id": "bf9c9006",
   "metadata": {},
   "outputs": [],
   "source": [
    "dickinsonProbs = pickle.load(open('dickinsonProbs.p', 'rb'))"
   ]
  },
  {
   "cell_type": "code",
   "execution_count": 6,
   "id": "af210bf8",
   "metadata": {},
   "outputs": [
    {
     "data": {
      "text/plain": [
       "0.06506088945704097"
      ]
     },
     "execution_count": 6,
     "metadata": {},
     "output_type": "execute_result"
    }
   ],
   "source": [
    "dickinsonProbs['the']"
   ]
  },
  {
   "cell_type": "code",
   "execution_count": 7,
   "id": "24a294a2",
   "metadata": {},
   "outputs": [
    {
     "data": {
      "text/plain": [
       "0.0009419363520150709"
      ]
     },
     "execution_count": 7,
     "metadata": {},
     "output_type": "execute_result"
    }
   ],
   "source": [
    "dickinsonProbs['heart']"
   ]
  },
  {
   "cell_type": "code",
   "execution_count": 8,
   "id": "d993e9bc",
   "metadata": {},
   "outputs": [
    {
     "data": {
      "text/plain": [
       "'possible'"
      ]
     },
     "execution_count": 8,
     "metadata": {},
     "output_type": "execute_result"
    }
   ],
   "source": [
    "randomWord(dickinsonProbs)"
   ]
  },
  {
   "cell_type": "code",
   "execution_count": 9,
   "id": "496d21fe",
   "metadata": {},
   "outputs": [
    {
     "name": "stdout",
     "output_type": "stream",
     "text": [
      "but\n",
      "dominions\n",
      "foe\n",
      "garden\n",
      "the\n",
      "be\n",
      "him\n",
      "so\n",
      "he\n",
      "centuries\n"
     ]
    }
   ],
   "source": [
    "for i in range(10):\n",
    "    print(randomWord(dickinsonProbs))"
   ]
  },
  {
   "cell_type": "code",
   "execution_count": 10,
   "id": "8cec524b",
   "metadata": {},
   "outputs": [],
   "source": [
    "dickinsonBigrams = pickle.load(open('dickinsonBigrams.p', 'rb'))\n",
    "shakespeareProbs = pickle.load(open('shakeProbs.p', 'rb'))\n",
    "shakespeareBigrams = pickle.load(open('shakeBigrams.p', 'rb'))"
   ]
  },
  {
   "cell_type": "code",
   "execution_count": 11,
   "id": "130675c2",
   "metadata": {},
   "outputs": [
    {
     "data": {
      "text/plain": [
       "{'with': 0.16666666666666666,\n",
       " 'thou': 0.3333333333333333,\n",
       " 'them': 0.16666666666666666,\n",
       " 'thee': 0.16666666666666666,\n",
       " 'myself': 0.16666666666666666}"
      ]
     },
     "execution_count": 11,
     "metadata": {},
     "output_type": "execute_result"
    }
   ],
   "source": [
    "shakespeareBigrams['compare']"
   ]
  },
  {
   "cell_type": "code",
   "execution_count": 16,
   "id": "3ab55a5a",
   "metadata": {},
   "outputs": [
    {
     "name": "stdout",
     "output_type": "stream",
     "text": [
      "faults are at my silence for the humble salve \n",
      "metre of my woe tell and i am salve \n",
      "work did painting my name but mutual ordering resembling \n",
      "shall you if you mine eyes that so ailing \n",
      "all her still two loves eye doth lie thou \n",
      "disgrace even those parts do mine eyes have thao \n",
      "thy beautys effect was it to change decrees of \n",
      "was of scorn upon thy fading sweets and of \n",
      "today tomorrow sharpened in all my love converted from \n",
      "barren tender heir and there can mend to ancrum \n",
      "beauty as a pure and mine was true love \n",
      "is thine antique book since seldom coming in belove \n",
      "looks fair whereon it thee how with my love \n",
      "flowers in this thought had not me more belove \n",
      "\n"
     ]
    }
   ],
   "source": [
    "print(generatePoem(shakespeareProbs, shakespeareBigrams, 8, 14 ))"
   ]
  },
  {
   "cell_type": "code",
   "execution_count": 18,
   "id": "12e75225",
   "metadata": {},
   "outputs": [
    {
     "name": "stdout",
     "output_type": "stream",
     "text": [
      "just to i but just a few ascetic eyes \n",
      "put it rushes these fleshless chant his queen ais \n",
      "memory lay unmentioned as it to his talk which \n",
      "a drop of blue when we more at bewitch \n",
      "or doom what is enchantment you so go  \n",
      "\n"
     ]
    }
   ],
   "source": [
    "print(generatePoem(dickinsonProbs, dickinsonBigrams, 8, 6))"
   ]
  },
  {
   "cell_type": "code",
   "execution_count": null,
   "id": "fb941ea4",
   "metadata": {},
   "outputs": [],
   "source": []
  }
 ],
 "metadata": {
  "kernelspec": {
   "display_name": "Python 3 (ipykernel)",
   "language": "python",
   "name": "python3"
  },
  "language_info": {
   "codemirror_mode": {
    "name": "ipython",
    "version": 3
   },
   "file_extension": ".py",
   "mimetype": "text/x-python",
   "name": "python",
   "nbconvert_exporter": "python",
   "pygments_lexer": "ipython3",
   "version": "3.8.13"
  }
 },
 "nbformat": 4,
 "nbformat_minor": 5
}
