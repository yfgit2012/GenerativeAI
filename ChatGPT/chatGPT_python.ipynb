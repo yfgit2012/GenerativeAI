{
 "cells": [
  {
   "cell_type": "markdown",
   "id": "85d54dea",
   "metadata": {},
   "source": [
    "# Method 1: "
   ]
  },
  {
   "cell_type": "markdown",
   "id": "e2f30f7a",
   "metadata": {},
   "source": [
    "Reference: https://github.com/terry3041/pyChatGPT "
   ]
  },
  {
   "cell_type": "code",
   "execution_count": 8,
   "id": "233b844b",
   "metadata": {},
   "outputs": [],
   "source": [
    "from pyChatGPT import ChatGPT"
   ]
  },
  {
   "cell_type": "markdown",
   "id": "0bea2f42",
   "metadata": {},
   "source": [
    "Launch chatGPT in web browser "
   ]
  },
  {
   "cell_type": "code",
   "execution_count": 9,
   "id": "843ba0b0",
   "metadata": {},
   "outputs": [],
   "source": [
    "session_token = 'eyJhbGciOiJkaXIiLCJlbmMiOiJBMjU2R0NNIn0..7cTw2VivJ6MjE9Vl.2_IZ4dlrWn5TwESlmyJo4Dk9Jhujie_Y1EFaGLLrCiUgaa21doCgoHk1ALBIF_Sv7OqdRCi1sQnY63IxhTEXKGc-lk5D_-14BmHjAyCENCghn7O3BPtFmDdxs5ZYtruDl-SRBDo-PF92uav2DFUZlsdZGH3duKRoCgDt0q5R-0DZgzy00bUCgjDKZ8Q3MHykZ4SAv2RX2eEW9e0hiLLQYO_On7IO-sQ4XeAGAx1v7WnQkPzPE_zhvr-NJAbnq7EAp70f1b-G7y0SQb2B1cJ00DIrumzZia66mEiM3f_yiDHcoU9rGI9U69sUm2vn_xiZZ8tQ-TRzPlpIQ9wi_4GewLgXFwtws32tPEMmSMBsucofELTZQDp8hVzsmeEvmSXMaq5Hgeo6uC2ZGfFVBM66nqzRCTelL53FJO-6DbKpxdpNmViQgMj_1ljSfEsIti1ApHhantkFQcKY9eCwscGLmhwHCb-ydmxx-BtEz521pKAVELOAfS64egsVG8BPrNwwqe2PzB3yXI9KrJ9jSujUkK6PhoRZmYYZErgGAMKsBj85_YKMeltc9ovjDMHBP4LPkLg3WxvCFdCc7e8DRx8tHweven6M0kW-8Dzp4BYNPfTiPa_xDuRj0ysGhFyzBYXr9YcCNAd3gDljcdYnXhh5nX9UfHxAloT8xIrIEAegS1urLuaI7R-JzSl_GVRtcLuwkBCWG684CDqFgwB1SUJC5w6p2pO2ELDpxLQ33hMN-cCHr5d8C72d3qfH7B2Qj23aRqCaaJOrD1hCDzFaXyf847Lp5cviGZTG2F1CmmE7N77wIjyeqBsORZaxnGRKgtoOgPtL_lEIq9VkKE_Y5wvx42fvi8cXJELA5YDy1ZQrOq7Lk-J9DW2jEIg_PWu6_2N4TVF8G-_h87AKQGXZNId6Eb-PuJiSAlOhzS8UHuRlZYKmHRn9TGqW3-NdB25PngbHI2hGvweC_h_TyccY9cvqWYNh3g2XX-K1I4otOIpNYqQZWxyPRfK_uyVHTAwgtoxSiyiKdq6VMXW1lRrUNEamf4AFz8Rq4BzkehfNIfRvAb10v3zhujm_wKBjG2doGM1OZyPySABQC3hcGduBnBj5wBxdh3kC-rgrXJRu3xu6sO1LIPu4hOMVd1cxDZ7d_6BRlkbdJPPyn_547XlFPoJVivZkZ5fmXwSg_nZG3JOmsCYatBcmT33fBTOmpTKK0jlwcUouxnE-9Q_9wAYnr_6mqT5BWtDE5NNVJDaTR0CK_eAhwP6aytEY8fhPXoTRJ__AZM-IhA_cDCpPWi6ET9ykYrx5BJX_NCq5FZBRIm3FRxFkw56QkUAfhFPI9zQbiUWJR5mzTOHVzTHq5sZtrGu9dKqzNQrkLHdAikt10pg0_wsOzOc619s-iE04w_deg2HTI1MfEPVa9wkaoPyAseJ9xzHvUi2n8BeQWKUxkdfPfavZZYMgsA90dSeywIhwt7_B8Gug4Qj_4NFxBjdRl4_VCn7UA1k7lh5mUFjguPcPrEZAyeMg-iLinWsZrvQDEE1g7jYhEVEm2oY34zmHD1C9bwbAHqYtge2ghnHZsWc1a4wxQrR5Xe1RVizEW05UlT5umQ8sJDkXbL-ANpRLMhfgN9k8GjEvU1ZlId4ofwQeaDy4bK6-TEHOgWPJVEntwQ0HWXpIWG--tuyER4tbEIvtMBQpqkw6RmCHMyqqtcHlHS-pKw7ZJdITjyDJBH64Hwd94oKxI3v65vcugAjz3vNJHjWquneDMAFwSyj27RB0IUak_pLnUfKjSQqC55nbLxVhWPd7IVllhNzCbzbEDyNuUp2OpUh0alG8KmUHRpwQKy8FHrpXUYmawB-43v13SwNXg2dG6wybXoW27udkyoh05WFlysvaqGsxBqIp12Zra1yE4Pnv9C3IWYeo7IcpHBUldSiBWP1k6BTjdG04mb-6XKDUqr8qcTeibTMCApXKXrmbARqmDH53Ia481pYuJS3Pso28frYLJWkE2OiqdwLu7QB2acXYYAn2uzKcuQBz-vobIgCDdxEib4r7yREA1uj3q7zWGGopHhZtP1pWUiS7PM0Hroya78CFHVKom03RvEG26jXh4siNTMA2L52rNrCm78vC48cgj2P-LeQub12-zqU7iqAUvrZOMYST-AQzaXAyl0Y_JFIUrCdFjWDrDEbMg9pcuWmiX2rNaIgBcFnkJUMNCjMG2vXwjWpcj9NkK7CtG2BSXDdpLU7PmB0dfQshPP5TR8VOGsEr2XKzurXwQyfS2rewEB5UToaU_78eRQ_DHLK84jQl7C_RL4rIP6EZzrY96iLXOkpn8PtTfqMYj5ioAMXACgnyf8llOo6cgtdh8ydE51yNIJPG_R_X2KBUpJyB16kHIdXqot0aD6Oizw.y4ptKGTEyYHFJyLpa3-U1w'\n",
    "api1 = ChatGPT(session_token)"
   ]
  },
  {
   "cell_type": "code",
   "execution_count": 10,
   "id": "bcad4e75",
   "metadata": {},
   "outputs": [
    {
     "name": "stdout",
     "output_type": "stream",
     "text": [
      "好的，我会用中文回答你的问题。我可以为你提供有关汉语语言和文化的信息，也可以帮助你翻译英文。你想问什么呢？\n",
      "\n",
      "\n"
     ]
    }
   ],
   "source": [
    "resp = api1.send_message('We are going to start a conversation. I will speak English and you will speak Chinese.')\n",
    "print(resp['message'])\n",
    "\n",
    "api1.reset_conversation()  # reset the conversation"
   ]
  },
  {
   "cell_type": "markdown",
   "id": "0e300286",
   "metadata": {},
   "source": [
    "# Method 2: "
   ]
  },
  {
   "cell_type": "markdown",
   "id": "f09f666d",
   "metadata": {},
   "source": [
    "Reference: https://github.com/labteral/chatgpt-python "
   ]
  },
  {
   "cell_type": "code",
   "execution_count": 4,
   "id": "88b80373",
   "metadata": {},
   "outputs": [],
   "source": [
    "import sys\n",
    "from chatgpt import Conversation"
   ]
  },
  {
   "cell_type": "markdown",
   "id": "8055b21b",
   "metadata": {},
   "source": [
    "put user credential in config.json, and place in the same folder\n",
    "\n",
    "{\"email\":\"xxx@gmail.com\",\"password\":\"xxx\"}"
   ]
  },
  {
   "cell_type": "code",
   "execution_count": 6,
   "id": "554a4cae",
   "metadata": {},
   "outputs": [],
   "source": [
    "conversation = Conversation()"
   ]
  },
  {
   "cell_type": "markdown",
   "id": "4caf53c0",
   "metadata": {},
   "source": [
    "Stream the message as it arrives.\n",
    "\n",
    "does not work yet, error message  \"with login error\"  "
   ]
  },
  {
   "cell_type": "code",
   "execution_count": 7,
   "id": "f09acbd4",
   "metadata": {},
   "outputs": [
    {
     "ename": "ChatgptError",
     "evalue": "No access token. Please, provide an access_token or email and password through the constructor/config file.",
     "output_type": "error",
     "traceback": [
      "\u001b[1;31m---------------------------------------------------------------------------\u001b[0m",
      "\u001b[1;31mChatgptError\u001b[0m                              Traceback (most recent call last)",
      "\u001b[1;32m~\\AppData\\Local\\Temp\\ipykernel_14076\\1087350122.py\u001b[0m in \u001b[0;36m<cell line: 1>\u001b[1;34m()\u001b[0m\n\u001b[1;32m----> 1\u001b[1;33m \u001b[1;32mfor\u001b[0m \u001b[0mchunk\u001b[0m \u001b[1;32min\u001b[0m \u001b[0mconversation\u001b[0m\u001b[1;33m.\u001b[0m\u001b[0mstream\u001b[0m\u001b[1;33m(\u001b[0m\u001b[1;34m\"We are going to start a conversation. I will speak English and you will speak Chinese.\"\u001b[0m\u001b[1;33m)\u001b[0m\u001b[1;33m:\u001b[0m\u001b[1;33m\u001b[0m\u001b[1;33m\u001b[0m\u001b[0m\n\u001b[0m\u001b[0;32m      2\u001b[0m     \u001b[0mprint\u001b[0m\u001b[1;33m(\u001b[0m\u001b[0mchunk\u001b[0m\u001b[1;33m,\u001b[0m \u001b[0mend\u001b[0m\u001b[1;33m=\u001b[0m\u001b[1;34m\"\"\u001b[0m\u001b[1;33m)\u001b[0m\u001b[1;33m\u001b[0m\u001b[1;33m\u001b[0m\u001b[0m\n\u001b[0;32m      3\u001b[0m     \u001b[0msys\u001b[0m\u001b[1;33m.\u001b[0m\u001b[0mstdout\u001b[0m\u001b[1;33m.\u001b[0m\u001b[0mflush\u001b[0m\u001b[1;33m(\u001b[0m\u001b[1;33m)\u001b[0m\u001b[1;33m\u001b[0m\u001b[1;33m\u001b[0m\u001b[0m\n",
      "\u001b[1;32m~\\AppData\\Local\\Continuum\\anaconda3\\envs\\py38\\lib\\site-packages\\chatgpt\\chatgpt.py\u001b[0m in \u001b[0;36mstream\u001b[1;34m(self, message, retry_on_401, only_new_characters)\u001b[0m\n\u001b[0;32m    265\u001b[0m         \u001b[0mstream_text_result\u001b[0m \u001b[1;33m=\u001b[0m \u001b[1;34m\"\"\u001b[0m\u001b[1;33m\u001b[0m\u001b[1;33m\u001b[0m\u001b[0m\n\u001b[0;32m    266\u001b[0m         \u001b[0mchunk_buffer\u001b[0m \u001b[1;33m=\u001b[0m \u001b[1;34m\"\"\u001b[0m\u001b[1;33m\u001b[0m\u001b[1;33m\u001b[0m\u001b[0m\n\u001b[1;32m--> 267\u001b[1;33m         \u001b[0mresponse\u001b[0m \u001b[1;33m=\u001b[0m \u001b[0mself\u001b[0m\u001b[1;33m.\u001b[0m\u001b[0mchat\u001b[0m\u001b[1;33m(\u001b[0m\u001b[0mmessage\u001b[0m\u001b[1;33m,\u001b[0m \u001b[0mretry_on_401\u001b[0m\u001b[1;33m,\u001b[0m \u001b[1;32mTrue\u001b[0m\u001b[1;33m,\u001b[0m \u001b[1;32mTrue\u001b[0m\u001b[1;33m)\u001b[0m\u001b[1;33m\u001b[0m\u001b[1;33m\u001b[0m\u001b[0m\n\u001b[0m\u001b[0;32m    268\u001b[0m         \u001b[1;32mfor\u001b[0m \u001b[0mchunk\u001b[0m \u001b[1;32min\u001b[0m \u001b[0mresponse\u001b[0m\u001b[1;33m.\u001b[0m\u001b[0miter_content\u001b[0m\u001b[1;33m(\u001b[0m\u001b[0mchunk_size\u001b[0m\u001b[1;33m=\u001b[0m\u001b[1;36m1024\u001b[0m\u001b[1;33m)\u001b[0m\u001b[1;33m:\u001b[0m\u001b[1;33m\u001b[0m\u001b[1;33m\u001b[0m\u001b[0m\n\u001b[0;32m    269\u001b[0m             \u001b[0mchunk_buffer\u001b[0m \u001b[1;33m+=\u001b[0m \u001b[0mchunk\u001b[0m\u001b[1;33m.\u001b[0m\u001b[0mdecode\u001b[0m\u001b[1;33m(\u001b[0m\u001b[1;34m\"utf-8\"\u001b[0m\u001b[1;33m)\u001b[0m\u001b[1;33m.\u001b[0m\u001b[0mreplace\u001b[0m\u001b[1;33m(\u001b[0m\u001b[1;34m\"data: \"\u001b[0m\u001b[1;33m,\u001b[0m \u001b[1;34m\"\"\u001b[0m\u001b[1;33m)\u001b[0m\u001b[1;33m\u001b[0m\u001b[1;33m\u001b[0m\u001b[0m\n",
      "\u001b[1;32m~\\AppData\\Local\\Continuum\\anaconda3\\envs\\py38\\lib\\site-packages\\chatgpt\\chatgpt.py\u001b[0m in \u001b[0;36mchat\u001b[1;34m(self, message, retry_on_401, direct_response, stream)\u001b[0m\n\u001b[0;32m    418\u001b[0m             \u001b[0mexception_code\u001b[0m \u001b[1;33m=\u001b[0m \u001b[0mChatgptErrorCodes\u001b[0m\u001b[1;33m.\u001b[0m\u001b[0mUNKNOWN_ERROR\u001b[0m\u001b[1;33m\u001b[0m\u001b[1;33m\u001b[0m\u001b[0m\n\u001b[0;32m    419\u001b[0m \u001b[1;33m\u001b[0m\u001b[0m\n\u001b[1;32m--> 420\u001b[1;33m         raise ChatgptError(\n\u001b[0m\u001b[0;32m    421\u001b[0m             exception_message, exception_code)\n\u001b[0;32m    422\u001b[0m \u001b[1;33m\u001b[0m\u001b[0m\n",
      "\u001b[1;31mChatgptError\u001b[0m: No access token. Please, provide an access_token or email and password through the constructor/config file."
     ]
    }
   ],
   "source": [
    "for chunk in conversation.stream(\"We are going to start a conversation. I will speak English and you will speak Chinese.\"):\n",
    "    print(chunk, end=\"\")\n",
    "    sys.stdout.flush()"
   ]
  },
  {
   "cell_type": "markdown",
   "id": "8b19fda1",
   "metadata": {},
   "source": [
    "Wait until the message is fully received."
   ]
  },
  {
   "cell_type": "code",
   "execution_count": null,
   "id": "390cf2cf",
   "metadata": {},
   "outputs": [],
   "source": [
    "print(conversation.chat(\"What's the color of the sky?\"))"
   ]
  },
  {
   "cell_type": "markdown",
   "id": "62cc8243",
   "metadata": {},
   "source": [
    "The AI will forget it was speaking Portuguese"
   ]
  },
  {
   "cell_type": "code",
   "execution_count": 3,
   "id": "d43d6a01",
   "metadata": {},
   "outputs": [
    {
     "ename": "NameError",
     "evalue": "name 'conversation' is not defined",
     "output_type": "error",
     "traceback": [
      "\u001b[1;31m---------------------------------------------------------------------------\u001b[0m",
      "\u001b[1;31mNameError\u001b[0m                                 Traceback (most recent call last)",
      "\u001b[1;32m~\\AppData\\Local\\Temp\\ipykernel_14076\\3681774888.py\u001b[0m in \u001b[0;36m<cell line: 1>\u001b[1;34m()\u001b[0m\n\u001b[1;32m----> 1\u001b[1;33m \u001b[0mconversation\u001b[0m\u001b[1;33m.\u001b[0m\u001b[0mreset\u001b[0m\u001b[1;33m(\u001b[0m\u001b[1;33m)\u001b[0m\u001b[1;33m\u001b[0m\u001b[1;33m\u001b[0m\u001b[0m\n\u001b[0m\u001b[0;32m      2\u001b[0m \u001b[0mprint\u001b[0m\u001b[1;33m(\u001b[0m\u001b[0mconversation\u001b[0m\u001b[1;33m.\u001b[0m\u001b[0mchat\u001b[0m\u001b[1;33m(\u001b[0m\u001b[1;34m\"What's the color of the sun?\"\u001b[0m\u001b[1;33m)\u001b[0m\u001b[1;33m)\u001b[0m\u001b[1;33m\u001b[0m\u001b[1;33m\u001b[0m\u001b[0m\n",
      "\u001b[1;31mNameError\u001b[0m: name 'conversation' is not defined"
     ]
    }
   ],
   "source": [
    "conversation.reset()\n",
    "print(conversation.chat(\"What's the color of the sun?\"))"
   ]
  },
  {
   "cell_type": "code",
   "execution_count": null,
   "id": "02fdf072",
   "metadata": {},
   "outputs": [],
   "source": []
  }
 ],
 "metadata": {
  "kernelspec": {
   "display_name": "Python 3 (ipykernel)",
   "language": "python",
   "name": "python3"
  },
  "language_info": {
   "codemirror_mode": {
    "name": "ipython",
    "version": 3
   },
   "file_extension": ".py",
   "mimetype": "text/x-python",
   "name": "python",
   "nbconvert_exporter": "python",
   "pygments_lexer": "ipython3",
   "version": "3.8.13"
  }
 },
 "nbformat": 4,
 "nbformat_minor": 5
}
